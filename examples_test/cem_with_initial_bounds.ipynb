{
 "cells": [
  {
   "cell_type": "code",
   "execution_count": 1,
   "id": "2c0c8742-5835-4dd1-b471-e529568b41c3",
   "metadata": {},
   "outputs": [],
   "source": [
    "from evotorch import Problem\n",
    "from evotorch.algorithms import CEM\n",
    "from evotorch.decorators import vectorized\n",
    "\n",
    "import torch"
   ]
  },
  {
   "cell_type": "code",
   "execution_count": 2,
   "id": "509afdb8-ef3e-45ba-84ed-d9bcbedee184",
   "metadata": {},
   "outputs": [],
   "source": [
    "@vectorized\n",
    "def fitness(x: torch.Tensor) -> torch.Tensor:\n",
    "    return torch.linalg.norm(x, dim=-1)"
   ]
  },
  {
   "cell_type": "code",
   "execution_count": 3,
   "id": "9d5d7a53-b5cf-4110-9e25-bc2601551b49",
   "metadata": {},
   "outputs": [
    {
     "name": "stdout",
     "output_type": "stream",
     "text": [
      "[2023-03-04 03:31:51] INFO     < 3540> evotorch.core: Instance of `Problem` (id:140222861586096) -- The `dtype` for the problem's decision variables is set as torch.float32\n",
      "[2023-03-04 03:31:51] INFO     < 3540> evotorch.core: Instance of `Problem` (id:140222861586096) -- `eval_dtype` (the dtype of the fitnesses and evaluation data) is set as torch.float32\n",
      "[2023-03-04 03:31:51] INFO     < 3540> evotorch.core: Instance of `Problem` (id:140222861586096) -- The `device` of the problem is set as cpu\n",
      "[2023-03-04 03:31:51] INFO     < 3540> evotorch.core: Instance of `Problem` (id:140222861586096) -- The number of actors that will be allocated for parallelized evaluation is 0\n"
     ]
    },
    {
     "data": {
      "text/plain": [
       "<evotorch.core.Problem at 0x7f882ddaaeb0>"
      ]
     },
     "execution_count": 3,
     "metadata": {},
     "output_type": "execute_result"
    }
   ],
   "source": [
    "problem = Problem(\n",
    "    \"min\",\n",
    "    fitness,\n",
    "    solution_length=5,\n",
    "    initial_bounds=(\n",
    "        [-1, -2, -100, -1000, 10.0],\n",
    "        [1, 2, 100, 1000, 10.5],\n",
    "    ),\n",
    "    dtype=torch.float32,\n",
    ")\n",
    "\n",
    "problem"
   ]
  },
  {
   "cell_type": "code",
   "execution_count": 4,
   "id": "a453c574-7d93-43c4-8f2f-097568266b51",
   "metadata": {},
   "outputs": [
    {
     "data": {
      "text/plain": [
       "<evotorch.algorithms.distributed.gaussian.CEM at 0x7f882ddaa3a0>"
      ]
     },
     "execution_count": 4,
     "metadata": {},
     "output_type": "execute_result"
    }
   ],
   "source": [
    "searcher = CEM(problem, popsize=100, parenthood_ratio=0.5, stdev_init=[1, 2, 100, 1000, 0.1])\n",
    "searcher"
   ]
  },
  {
   "cell_type": "code",
   "execution_count": 5,
   "id": "3def3834-1934-48fb-a0c1-93136dbddb27",
   "metadata": {},
   "outputs": [],
   "source": [
    "searcher.step()  # Take just one step. Just to see how the population looks like after one generation."
   ]
  },
  {
   "cell_type": "code",
   "execution_count": 6,
   "id": "deadc6fd-7824-4273-a027-8e040d31cec0",
   "metadata": {},
   "outputs": [
    {
     "data": {
      "text/plain": [
       "[<Solution values=tensor([  -1.9412,   -1.0712,  -86.3924, -127.0074,   10.3056]), evals=tensor([153.9664])>,\n",
       " <Solution values=tensor([ -1.5583,   1.6393, -15.0537, 416.8268,  10.2336]), evals=tensor([417.2302])>,\n",
       " <Solution values=tensor([-1.3330e+00,  2.5131e-01,  7.8024e+01,  2.7347e+03,  1.0240e+01]), evals=tensor([2735.8281])>,\n",
       " <Solution values=tensor([  -2.2872,    1.5851,  128.7721, 1195.5515,   10.1308]), evals=tensor([1202.5123])>,\n",
       " <Solution values=tensor([ -2.3244,   0.5122, 154.1289, 356.6663,  10.1778]), evals=tensor([388.6848])>,\n",
       " <Solution values=tensor([  -2.4037,   -1.6969, -130.1960,  -74.5571,   10.3494]), evals=tensor([150.4179])>,\n",
       " <Solution values=tensor([ 4.4839e-01, -3.6222e+00,  5.4442e+01, -4.7777e+02,  1.0178e+01]), evals=tensor([480.9859])>,\n",
       " <Solution values=tensor([ -0.9998,   3.7967,  21.5501, 719.2857,  10.1579]), evals=tensor([719.6909])>,\n",
       " <Solution values=tensor([-2.4639e+00,  1.1224e-01, -1.1435e+02,  2.0439e+03,  1.0099e+01]), evals=tensor([2047.0957])>,\n",
       " <Solution values=tensor([ 6.7217e-01, -1.2229e+00, -2.6266e+01,  1.7855e+03,  1.0213e+01]), evals=tensor([1785.6780])>]"
      ]
     },
     "execution_count": 6,
     "metadata": {},
     "output_type": "execute_result"
    }
   ],
   "source": [
    "list(searcher.population[:10])"
   ]
  },
  {
   "cell_type": "code",
   "execution_count": null,
   "id": "e17febc3-90cf-43e1-89ad-6aa373fde298",
   "metadata": {},
   "outputs": [],
   "source": []
  }
 ],
 "metadata": {
  "kernelspec": {
   "display_name": "Python 3 (ipykernel)",
   "language": "python",
   "name": "python3"
  },
  "language_info": {
   "codemirror_mode": {
    "name": "ipython",
    "version": 3
   },
   "file_extension": ".py",
   "mimetype": "text/x-python",
   "name": "python",
   "nbconvert_exporter": "python",
   "pygments_lexer": "ipython3",
   "version": "3.9.16"
  }
 },
 "nbformat": 4,
 "nbformat_minor": 5
}
