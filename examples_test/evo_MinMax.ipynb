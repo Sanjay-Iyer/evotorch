{
 "cells": [
  {
   "cell_type": "code",
   "execution_count": 67,
   "metadata": {},
   "outputs": [],
   "source": [
    "import torch\n",
    "from torch import nn\n",
    "from evotorch import Problem\n",
    "from evotorch.algorithms import SNES\n",
    "from evotorch.logging import StdOutLogger\n",
    "\n",
    "from evotorch import Problem\n",
    "from evotorch.algorithms import CEM\n",
    "from evotorch.decorators import vectorized\n",
    "\n",
    "from evotorch import Problem\n",
    "from evotorch.algorithms import GeneticAlgorithm\n",
    "from evotorch.decorators import vectorized\n",
    "from evotorch.operators import SimulatedBinaryCrossOver\n",
    "from evotorch.operators import PolynomialMutation\n",
    "\n",
    "from evotorch import Problem\n",
    "from evotorch.algorithms import GeneticAlgorithm\n",
    "from evotorch.decorators import vectorized\n",
    "from evotorch.operators import TwoPointCrossOver\n",
    "from evotorch.operators import OnePointCrossOver, GaussianMutation\n",
    "import numpy as np\n",
    "import random\n",
    "\n",
    "\n",
    "from evotorch.algorithms import XNES"
   ]
  },
  {
   "cell_type": "code",
   "execution_count": 86,
   "metadata": {},
   "outputs": [],
   "source": [
    "@vectorized\n",
    "def MinMax(input: torch.Tensor) -> torch.Tensor:\n",
    "    r1=((input[:,0]-0.5)**2)+((input[:,1]-0.5)**2)\n",
    "    r2=((input[:,0]-0.6)**2)+((input[:,1]-0.1)**2)\n",
    "    result = (0.80*np.exp(-(r1)/(0.3**2))) + (0.88*np.exp(-(r2)/0.03**2))\n",
    "    #global maximum at (0.6,0.1) with local at (0.5,0.5)\n",
    "    return result.reshape(-1)\n"
   ]
  },
  {
   "cell_type": "code",
   "execution_count": 87,
   "metadata": {},
   "outputs": [
    {
     "name": "stdout",
     "output_type": "stream",
     "text": [
      "tensor([0.8000, 1.0010])\n"
     ]
    }
   ],
   "source": [
    "# print(torch.rand(10,2))\n",
    "# print(MinMax(torch.rand(10,2)))\n",
    "print(MinMax(torch.tensor([[0.5,0.5],[0.6,0.1]])))"
   ]
  },
  {
   "cell_type": "code",
   "execution_count": 88,
   "metadata": {},
   "outputs": [
    {
     "name": "stdout",
     "output_type": "stream",
     "text": [
      "[2023-03-04 05:44:21] INFO     < 4373> evotorch.core: Instance of `Problem` (id:140469246678304) -- The `dtype` for the problem's decision variables is set as torch.float32\n",
      "[2023-03-04 05:44:21] INFO     < 4373> evotorch.core: Instance of `Problem` (id:140469246678304) -- `eval_dtype` (the dtype of the fitnesses and evaluation data) is set as torch.float32\n",
      "[2023-03-04 05:44:21] INFO     < 4373> evotorch.core: Instance of `Problem` (id:140469246678304) -- The `device` of the problem is set as cpu\n",
      "[2023-03-04 05:44:21] INFO     < 4373> evotorch.core: Instance of `Problem` (id:140469246678304) -- The number of actors that will be allocated for parallelized evaluation is 0\n"
     ]
    },
    {
     "data": {
      "text/plain": [
       "<evotorch.core.Problem at 0x7fc18b8cd520>"
      ]
     },
     "execution_count": 88,
     "metadata": {},
     "output_type": "execute_result"
    }
   ],
   "source": [
    "problem = Problem(\n",
    "    \"max\",\n",
    "    MinMax,\n",
    "    solution_length=2,\n",
    "    bounds=([0., 0.], [1., 1.]),\n",
    "    dtype=torch.float32,\n",
    ")\n",
    "\n",
    "problem"
   ]
  },
  {
   "cell_type": "code",
   "execution_count": 113,
   "metadata": {},
   "outputs": [
    {
     "name": "stdout",
     "output_type": "stream",
     "text": [
      "<Solution values=tensor([0.5977, 0.0994]), evals=tensor([0.9956])>\n",
      "<Solution values=tensor([0.6088, 0.0959]), evals=tensor([0.9063])>\n",
      "<Solution values=tensor([0.5004, 0.4988]), evals=tensor([0.8000])>\n",
      "<Solution values=tensor([0.6103, 0.1045]), evals=tensor([0.8872])>\n",
      "<Solution values=tensor([0.4992, 0.5005]), evals=tensor([0.8000])>\n",
      "<Solution values=tensor([0.6015, 0.1034]), evals=tensor([0.9907])>\n",
      "<Solution values=tensor([0.5001, 0.5000]), evals=tensor([0.8000])>\n",
      "<Solution values=tensor([0.5003, 0.4990]), evals=tensor([0.8000])>\n",
      "<Solution values=tensor([0.5898, 0.0991]), evals=tensor([0.9055])>\n",
      "<Solution values=tensor([0.4989, 0.4995]), evals=tensor([0.8000])>\n"
     ]
    }
   ],
   "source": [
    "for i in range(10):\n",
    "    searcher = GeneticAlgorithm(\n",
    "        problem,\n",
    "        popsize=100,\n",
    "        operators=[\n",
    "            # TwoPointCrossOver(problem, tournament_size=10),\n",
    "            GaussianMutation(problem, stdev=0.1)\n",
    "        ],\n",
    "    )\n",
    "    searcher.run(100)\n",
    "    print(searcher.population[0])\n"
   ]
  },
  {
   "cell_type": "code",
   "execution_count": null,
   "metadata": {},
   "outputs": [],
   "source": []
  }
 ],
 "metadata": {
  "kernelspec": {
   "display_name": "evotorch",
   "language": "python",
   "name": "python3"
  },
  "language_info": {
   "codemirror_mode": {
    "name": "ipython",
    "version": 3
   },
   "file_extension": ".py",
   "mimetype": "text/x-python",
   "name": "python",
   "nbconvert_exporter": "python",
   "pygments_lexer": "ipython3",
   "version": "3.9.16"
  },
  "orig_nbformat": 4
 },
 "nbformat": 4,
 "nbformat_minor": 2
}
