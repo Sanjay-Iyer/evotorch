{
 "cells": [
  {
   "cell_type": "code",
   "execution_count": 15,
   "id": "2c0c8742-5835-4dd1-b471-e529568b41c3",
   "metadata": {},
   "outputs": [],
   "source": [
    "from evotorch import Problem\n",
    "from evotorch.algorithms import GeneticAlgorithm\n",
    "from evotorch.decorators import vectorized\n",
    "from evotorch.operators import SimulatedBinaryCrossOver\n",
    "\n",
    "import torch"
   ]
  },
  {
   "cell_type": "code",
   "execution_count": 54,
   "id": "509afdb8-ef3e-45ba-84ed-d9bcbedee184",
   "metadata": {},
   "outputs": [],
   "source": [
    "@vectorized\n",
    "def fitness(x: torch.Tensor) -> torch.Tensor:\n",
    "    print(x.shape)\n",
    "    print(torch.linalg.norm(x, dim=-1).shape)\n",
    "    return torch.linalg.norm(x, dim=-1)"
   ]
  },
  {
   "cell_type": "code",
   "execution_count": 57,
   "id": "bae8ec13",
   "metadata": {},
   "outputs": [
    {
     "name": "stdout",
     "output_type": "stream",
     "text": [
      "torch.Size([10, 3])\n",
      "torch.Size([10])\n"
     ]
    },
    {
     "data": {
      "text/plain": [
       "tensor([0.6599, 0.7083, 1.1654, 0.6611, 0.4956, 1.0665, 0.8189, 0.6513, 1.0573,\n",
       "        1.2272])"
      ]
     },
     "execution_count": 57,
     "metadata": {},
     "output_type": "execute_result"
    }
   ],
   "source": [
    "fitness(torch.rand(10,3))"
   ]
  },
  {
   "cell_type": "code",
   "execution_count": 17,
   "id": "9d5d7a53-b5cf-4110-9e25-bc2601551b49",
   "metadata": {},
   "outputs": [
    {
     "name": "stdout",
     "output_type": "stream",
     "text": [
      "[2023-03-04 05:01:18] INFO     < 3590> evotorch.core: Instance of `Problem` (id:140188358984704) -- The `dtype` for the problem's decision variables is set as torch.float32\n",
      "[2023-03-04 05:01:18] INFO     < 3590> evotorch.core: Instance of `Problem` (id:140188358984704) -- `eval_dtype` (the dtype of the fitnesses and evaluation data) is set as torch.float32\n",
      "[2023-03-04 05:01:18] INFO     < 3590> evotorch.core: Instance of `Problem` (id:140188358984704) -- The `device` of the problem is set as cpu\n",
      "[2023-03-04 05:01:18] INFO     < 3590> evotorch.core: Instance of `Problem` (id:140188358984704) -- The number of actors that will be allocated for parallelized evaluation is 0\n"
     ]
    },
    {
     "data": {
      "text/plain": [
       "<evotorch.core.Problem at 0x7f802556c400>"
      ]
     },
     "execution_count": 17,
     "metadata": {},
     "output_type": "execute_result"
    }
   ],
   "source": [
    "problem = Problem(\n",
    "    \"min\",\n",
    "    fitness,\n",
    "    solution_length=5,\n",
    "    bounds=(\n",
    "        [-1, -2, -100, -1000, 10.0],\n",
    "        [1, 2, 100, 1000, 10.5],\n",
    "    ),\n",
    "    dtype=torch.float32,\n",
    ")\n",
    "\n",
    "problem"
   ]
  },
  {
   "cell_type": "code",
   "execution_count": 41,
   "id": "af15cd90-10a3-484c-8361-13842c9a3c4c",
   "metadata": {},
   "outputs": [],
   "source": [
    "def my_manual_mutation(x: torch.Tensor) -> torch.Tensor:\n",
    "    # The default GaussianMutation of EvoTorch does not (yet) support different standard deviation values\n",
    "    # per variable. However, we can define our own mutation operator which adds noise of different magnitudes\n",
    "    # to different variables, like shown here:\n",
    "    [_, solution_length] = x.shape\n",
    "    dtype = x.dtype\n",
    "    device = x.device\n",
    "\n",
    "    # Generate Gaussian noise where each column has its own magnitude\n",
    "    noise = (\n",
    "        torch.randn(solution_length, dtype=dtype, device=device)\n",
    "        * torch.tensor([1, 2, 100, 1000, 0.1], dtype=dtype, device=device)\n",
    "    )\n",
    "\n",
    "    result = x + noise\n",
    "\n",
    "    # Because this is a manual operator, we need to specify how it should respect the strict boundaries.\n",
    "    # In the case of this example, we just clip the values.\n",
    "    result = torch.minimum(result, problem.upper_bounds)\n",
    "    result = torch.maximum(result, problem.lower_bounds)\n",
    "\n",
    "    return result"
   ]
  },
  {
   "cell_type": "code",
   "execution_count": 47,
   "id": "a453c574-7d93-43c4-8f2f-097568266b51",
   "metadata": {},
   "outputs": [],
   "source": [
    "searcher = GeneticAlgorithm(\n",
    "    problem,\n",
    "    popsize=100,\n",
    "    operators=[\n",
    "        SimulatedBinaryCrossOver(problem, tournament_size=4, eta=8),\n",
    "        my_manual_mutation,\n",
    "    ],\n",
    ")\n",
    "searcher.run(100)"
   ]
  },
  {
   "cell_type": "code",
   "execution_count": 43,
   "id": "3def3834-1934-48fb-a0c1-93136dbddb27",
   "metadata": {},
   "outputs": [],
   "source": [
    "searcher.step()  # Take just one step. Just to see how the population looks like after one generation."
   ]
  },
  {
   "cell_type": "code",
   "execution_count": 48,
   "id": "deadc6fd-7824-4273-a027-8e040d31cec0",
   "metadata": {},
   "outputs": [
    {
     "data": {
      "text/plain": [
       "[<Solution values=tensor([ 0.2883,  0.3074, -1.7074, -2.6299, 10.4472]), evals=tensor([10.9157])>,\n",
       " <Solution values=tensor([ 0.2883,  0.3085, -2.0354, -2.6440, 10.4471]), evals=tensor([10.9751])>,\n",
       " <Solution values=tensor([ 0.2883,  0.3085, -2.0354, -2.6440, 10.4471]), evals=tensor([10.9751])>,\n",
       " <Solution values=tensor([ 0.2808,  0.3539,  2.2003, -2.6278, 10.4391]), evals=tensor([10.9966])>,\n",
       " <Solution values=tensor([ 1.0000,  0.3212,  5.9355, -0.3956, 10.2478]), evals=tensor([11.8957])>,\n",
       " <Solution values=tensor([ 1.0000,  1.4753,  5.9355, -0.8265, 10.4554]), evals=tensor([12.1822])>,\n",
       " <Solution values=tensor([-0.8532, -0.4101, -2.3775, -7.4298, 10.4758]), evals=tensor([13.0955])>,\n",
       " <Solution values=tensor([ 0.2842,  0.2693, -7.0651, -4.3335, 10.4289]), evals=tensor([13.3270])>,\n",
       " <Solution values=tensor([-0.8891, -0.5546,  3.4913, -7.4488, 10.4728]), evals=tensor([13.3586])>,\n",
       " <Solution values=tensor([ 0.2883,  0.3085, -6.8905, -4.6530, 10.4527]), evals=tensor([13.3629])>]"
      ]
     },
     "execution_count": 48,
     "metadata": {},
     "output_type": "execute_result"
    }
   ],
   "source": [
    "list(searcher.population[:10])"
   ]
  }
 ],
 "metadata": {
  "kernelspec": {
   "display_name": "Python 3 (ipykernel)",
   "language": "python",
   "name": "python3"
  },
  "language_info": {
   "codemirror_mode": {
    "name": "ipython",
    "version": 3
   },
   "file_extension": ".py",
   "mimetype": "text/x-python",
   "name": "python",
   "nbconvert_exporter": "python",
   "pygments_lexer": "ipython3",
   "version": "3.9.16"
  }
 },
 "nbformat": 4,
 "nbformat_minor": 5
}
