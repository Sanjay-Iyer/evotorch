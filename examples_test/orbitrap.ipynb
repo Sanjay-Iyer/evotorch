{
 "cells": [
  {
   "cell_type": "code",
   "execution_count": 12,
   "metadata": {},
   "outputs": [],
   "source": [
    "import torch\n",
    "from torch import nn\n",
    "from evotorch import Problem\n",
    "from evotorch.logging import StdOutLogger\n",
    "from evotorch.algorithms import SNES\n",
    "from evotorch.algorithms import CEM\n",
    "from evotorch.algorithms import GeneticAlgorithm\n",
    "from evotorch.algorithms import XNES\n",
    "from evotorch.algorithms import GeneticAlgorithm\n",
    "from evotorch.decorators import vectorized\n",
    "from evotorch.operators import TwoPointCrossOver\n",
    "from evotorch.operators import OnePointCrossOver, GaussianMutation\n",
    "from evotorch.operators import SimulatedBinaryCrossOver\n",
    "from evotorch.operators import PolynomialMutation\n",
    "import numpy as np\n",
    "import random\n",
    "\n"
   ]
  },
  {
   "cell_type": "code",
   "execution_count": 13,
   "metadata": {},
   "outputs": [],
   "source": [
    "# sheath_gas = 30 #range? units?\n",
    "# aux_gas = 10 #range? units?\n",
    "# sweep_gas = 0,5 #units?\n",
    "# spray_voltage = 3,5 #kV\n",
    "# capillary_temperature = 275 #range? celcius\n",
    "# capillary_voltage = 10 #range? volts\n",
    "# tube_lens_voltage = 40 #range? volts"
   ]
  },
  {
   "cell_type": "code",
   "execution_count": 14,
   "metadata": {},
   "outputs": [],
   "source": [
    "# #prompt for output\n",
    "def prompt(parameters: torch.Tensor) -> torch.Tensor:\n",
    "    #prompt user for input from jupyter notebook\n",
    "    print('Please run instrument with parameters {}'.format(parameters))\n",
    "    return torch.tensor(float(input(\"Enter a number: \")))\n"
   ]
  },
  {
   "cell_type": "code",
   "execution_count": 15,
   "metadata": {},
   "outputs": [
    {
     "name": "stdout",
     "output_type": "stream",
     "text": [
      "[2023-03-04 07:53:03] INFO     < 4891> evotorch.core: Instance of `Problem` (id:140636753713856) -- The `dtype` for the problem's decision variables is set as torch.float32\n",
      "[2023-03-04 07:53:03] INFO     < 4891> evotorch.core: Instance of `Problem` (id:140636753713856) -- `eval_dtype` (the dtype of the fitnesses and evaluation data) is set as torch.float32\n",
      "[2023-03-04 07:53:03] INFO     < 4891> evotorch.core: Instance of `Problem` (id:140636753713856) -- The `device` of the problem is set as cpu\n",
      "[2023-03-04 07:53:03] INFO     < 4891> evotorch.core: Instance of `Problem` (id:140636753713856) -- The number of actors that will be allocated for parallelized evaluation is 0\n"
     ]
    },
    {
     "data": {
      "text/plain": [
       "<evotorch.core.Problem at 0x7fe88bbf5ac0>"
      ]
     },
     "execution_count": 15,
     "metadata": {},
     "output_type": "execute_result"
    }
   ],
   "source": [
    "problem = Problem(\n",
    "    'max',\n",
    "    prompt,\n",
    "   # fitness,\n",
    "    solution_length = 7,\n",
    "    #initial_bounds=([35,50],[45,100]),\n",
    "    bounds=(\n",
    "    [25,5,0,3,250,8,35],\n",
    "    [35,15,5,5,290,12,45]\n",
    "            ),\n",
    "    dtype=torch.float32,\n",
    "    #device='cpu'\n",
    ")\n",
    "problem\n",
    "#1 sheath_gas = 30 #range? units?\n",
    "#2 aux_gas = 10 #range? units?\n",
    "#3 sweep_gas = 0,5 #units?\n",
    "#4 spray_voltage = 3,5 #kV\n",
    "#5 capillary_temperature = 275 #range? celcius\n",
    "#6 capillary_voltage = 10 #range? volts\n",
    "#7 tube_lens_voltage = 40 #range? volts"
   ]
  },
  {
   "cell_type": "code",
   "execution_count": 16,
   "metadata": {},
   "outputs": [],
   "source": [
    "def my_own_gaussian_mutation(x: torch.Tensor) -> torch.Tensor:\n",
    "    # The default GaussianMutation of EvoTorch does not (yet) support different standard deviation values\n",
    "    # per variable. However, we can define our own mutation operator which adds noise of different magnitudes\n",
    "    # to different variables, like in this example:\n",
    "    [_, solution_length] = x.shape\n",
    "    dtype = x.dtype\n",
    "    device = x.device\n",
    "\n",
    "    # Generate Gaussian noise where each column has its own magnitude\n",
    "    noise = (\n",
    "        torch.randn(solution_length, dtype=dtype, device=device)\n",
    "        * torch.tensor([2, 1, 0.5,1,5,1,1], dtype=dtype, device=device)\n",
    "    )\n",
    "\n",
    "    return x + noise"
   ]
  },
  {
   "cell_type": "code",
   "execution_count": 17,
   "metadata": {},
   "outputs": [
    {
     "name": "stdout",
     "output_type": "stream",
     "text": [
      "Please run instrument with parameters ReadOnlyTensor([ 27.8095,  12.1159,   3.4912,   4.1697, 288.3546,  11.7927,\n",
      "                 37.5255])\n",
      "Please run instrument with parameters ReadOnlyTensor([ 25.6031,  11.1433,   2.6479,   5.3608, 286.6487,  11.0115,\n",
      "                 37.4077])\n",
      "         iter : 1\n",
      "  median_eval : 45.0\n",
      "    mean_eval : 45.0\n",
      "pop_best_eval : 45.0\n",
      "    best_eval : 45.0\n",
      "   worst_eval : 4.0\n",
      "\n"
     ]
    }
   ],
   "source": [
    "searcher = GeneticAlgorithm(\n",
    "    problem,\n",
    "    popsize=1,\n",
    "    operators=[my_own_gaussian_mutation]\n",
    "       #TwoPointCrossOver(problem, tournament_size=1)\n",
    "   # ],\n",
    ")\n",
    "\n",
    "_ = StdOutLogger(searcher, interval=1)\n",
    "\n",
    "searcher.run(num_generations=1)\n"
   ]
  },
  {
   "cell_type": "code",
   "execution_count": 18,
   "metadata": {},
   "outputs": [
    {
     "data": {
      "text/plain": [
       "[<Solution values=tensor([ 25.6031,  11.1433,   2.6479,   5.3608, 286.6487,  11.0115,  37.4077]), evals=tensor([45.])>]"
      ]
     },
     "execution_count": 18,
     "metadata": {},
     "output_type": "execute_result"
    }
   ],
   "source": [
    "list(searcher.population[:10])"
   ]
  }
 ],
 "metadata": {
  "kernelspec": {
   "display_name": "evotorch",
   "language": "python",
   "name": "python3"
  },
  "language_info": {
   "codemirror_mode": {
    "name": "ipython",
    "version": 3
   },
   "file_extension": ".py",
   "mimetype": "text/x-python",
   "name": "python",
   "nbconvert_exporter": "python",
   "pygments_lexer": "ipython3",
   "version": "3.9.16"
  },
  "orig_nbformat": 4
 },
 "nbformat": 4,
 "nbformat_minor": 2
}
