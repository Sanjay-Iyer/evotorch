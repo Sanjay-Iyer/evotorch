{
 "cells": [
  {
   "cell_type": "code",
   "execution_count": 1,
   "id": "2c0c8742-5835-4dd1-b471-e529568b41c3",
   "metadata": {},
   "outputs": [],
   "source": [
    "from evotorch import Problem\n",
    "from evotorch.algorithms import GeneticAlgorithm\n",
    "from evotorch.decorators import vectorized\n",
    "from evotorch.operators import TwoPointCrossOver\n",
    "\n",
    "import torch"
   ]
  },
  {
   "cell_type": "code",
   "execution_count": 2,
   "id": "509afdb8-ef3e-45ba-84ed-d9bcbedee184",
   "metadata": {},
   "outputs": [],
   "source": [
    "@vectorized\n",
    "def fitness(x: torch.Tensor) -> torch.Tensor:\n",
    "    return torch.linalg.norm(x, dim=-1)"
   ]
  },
  {
   "cell_type": "code",
   "execution_count": 3,
   "id": "9d5d7a53-b5cf-4110-9e25-bc2601551b49",
   "metadata": {},
   "outputs": [
    {
     "name": "stdout",
     "output_type": "stream",
     "text": [
      "[2023-03-04 03:35:15] INFO     < 3683> evotorch.core: Instance of `Problem` (id:139853880212112) -- The `dtype` for the problem's decision variables is set as torch.float32\n",
      "[2023-03-04 03:35:15] INFO     < 3683> evotorch.core: Instance of `Problem` (id:139853880212112) -- `eval_dtype` (the dtype of the fitnesses and evaluation data) is set as torch.float32\n",
      "[2023-03-04 03:35:15] INFO     < 3683> evotorch.core: Instance of `Problem` (id:139853880212112) -- The `device` of the problem is set as cpu\n",
      "[2023-03-04 03:35:15] INFO     < 3683> evotorch.core: Instance of `Problem` (id:139853880212112) -- The number of actors that will be allocated for parallelized evaluation is 0\n"
     ]
    },
    {
     "data": {
      "text/plain": [
       "<evotorch.core.Problem at 0x7f3244d9ba90>"
      ]
     },
     "execution_count": 3,
     "metadata": {},
     "output_type": "execute_result"
    }
   ],
   "source": [
    "problem = Problem(\n",
    "    \"min\",\n",
    "    fitness,\n",
    "    solution_length=5,\n",
    "    initial_bounds=(\n",
    "        [-1, -2, -100, -1000, 10.0],\n",
    "        [1, 2, 100, 1000, 10.5],\n",
    "    ),\n",
    "    dtype=torch.float32,\n",
    ")\n",
    "\n",
    "problem"
   ]
  },
  {
   "cell_type": "code",
   "execution_count": 4,
   "id": "52533ff4-8c15-43b6-b9b4-5cb91cad8a1c",
   "metadata": {},
   "outputs": [],
   "source": [
    "def my_own_gaussian_mutation(x: torch.Tensor) -> torch.Tensor:\n",
    "    # The default GaussianMutation of EvoTorch does not (yet) support different standard deviation values\n",
    "    # per variable. However, we can define our own mutation operator which adds noise of different magnitudes\n",
    "    # to different variables, like in this example:\n",
    "    [_, solution_length] = x.shape\n",
    "    dtype = x.dtype\n",
    "    device = x.device\n",
    "\n",
    "    # Generate Gaussian noise where each column has its own magnitude\n",
    "    noise = (\n",
    "        torch.randn(solution_length, dtype=dtype, device=device)\n",
    "        * torch.tensor([1, 2, 100, 1000, 0.1], dtype=dtype, device=device)\n",
    "    )\n",
    "\n",
    "    return x + noise"
   ]
  },
  {
   "cell_type": "code",
   "execution_count": 5,
   "id": "a453c574-7d93-43c4-8f2f-097568266b51",
   "metadata": {},
   "outputs": [
    {
     "data": {
      "text/plain": [
       "<evotorch.algorithms.ga.GeneticAlgorithm at 0x7f3244d9baf0>"
      ]
     },
     "execution_count": 5,
     "metadata": {},
     "output_type": "execute_result"
    }
   ],
   "source": [
    "searcher = GeneticAlgorithm(\n",
    "    problem,\n",
    "    popsize=100,\n",
    "    operators=[\n",
    "        TwoPointCrossOver(problem, tournament_size=4),\n",
    "        my_own_gaussian_mutation,\n",
    "    ],\n",
    ")\n",
    "searcher"
   ]
  },
  {
   "cell_type": "code",
   "execution_count": 6,
   "id": "3def3834-1934-48fb-a0c1-93136dbddb27",
   "metadata": {},
   "outputs": [],
   "source": [
    "searcher.step()  # Take just one step. Just to see how the population looks like after one generation."
   ]
  },
  {
   "cell_type": "code",
   "execution_count": 7,
   "id": "deadc6fd-7824-4273-a027-8e040d31cec0",
   "metadata": {},
   "outputs": [
    {
     "data": {
      "text/plain": [
       "[<Solution values=tensor([ -0.9663,  -0.9670, -15.7090,  13.5809,  10.1975]), evals=tensor([23.1748])>,\n",
       " <Solution values=tensor([ -0.7827,   1.1606, -24.6908,  -4.2712,  10.0613]), evals=tensor([27.0382])>,\n",
       " <Solution values=tensor([-1.3241e-02, -4.9799e-01, -3.2429e+01,  1.3723e+00,  1.0246e+01]), evals=tensor([34.0410])>,\n",
       " <Solution values=tensor([ -0.2067,  -0.8951, -24.7820, -32.4819,  10.4979]), evals=tensor([42.1933])>,\n",
       " <Solution values=tensor([  0.4632,   1.6428, -35.7997,  25.6877,  10.2499]), evals=tensor([45.2709])>,\n",
       " <Solution values=tensor([  0.5060,  -1.1146, -23.6713,  37.5663,  10.3579]), evals=tensor([45.6107])>,\n",
       " <Solution values=tensor([ -0.8691,   1.7651, -59.3664,  12.5272,  10.3649]), evals=tensor([61.5841])>,\n",
       " <Solution values=tensor([ 0.7949,  1.3747,  5.4854, 70.8790, 10.1664]), evals=tensor([71.8318])>,\n",
       " <Solution values=tensor([-2.7432e-02, -1.9530e+00, -4.1382e+01, -6.3109e+01,  1.0044e+01]), evals=tensor([76.1573])>,\n",
       " <Solution values=tensor([ -0.6017,  -1.6017,  12.5664, -85.3169,  10.4094]), evals=tensor([86.8802])>]"
      ]
     },
     "execution_count": 7,
     "metadata": {},
     "output_type": "execute_result"
    }
   ],
   "source": [
    "list(searcher.population[:10])"
   ]
  },
  {
   "cell_type": "code",
   "execution_count": null,
   "id": "ecd0e637-bd0b-4b1f-8ba3-1a7c502d3f9f",
   "metadata": {},
   "outputs": [],
   "source": []
  }
 ],
 "metadata": {
  "kernelspec": {
   "display_name": "Python 3 (ipykernel)",
   "language": "python",
   "name": "python3"
  },
  "language_info": {
   "codemirror_mode": {
    "name": "ipython",
    "version": 3
   },
   "file_extension": ".py",
   "mimetype": "text/x-python",
   "name": "python",
   "nbconvert_exporter": "python",
   "pygments_lexer": "ipython3",
   "version": "3.9.16"
  }
 },
 "nbformat": 4,
 "nbformat_minor": 5
}
