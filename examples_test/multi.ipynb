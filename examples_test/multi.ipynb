{
 "cells": [
  {
   "cell_type": "code",
   "execution_count": 8,
   "metadata": {},
   "outputs": [
    {
     "name": "stdout",
     "output_type": "stream",
     "text": [
      "torch.Size([1, 2])\n"
     ]
    },
    {
     "data": {
      "text/plain": [
       "tensor([[-4.8757, 17.9088]])"
      ]
     },
     "execution_count": 8,
     "metadata": {},
     "output_type": "execute_result"
    }
   ],
   "source": [
    "import torch\n",
    "from evotorch import Problem\n",
    "from evotorch.algorithms import SteadyStateGA\n",
    "from evotorch.operators import (\n",
    "    SimulatedBinaryCrossOver,\n",
    "    GaussianMutation,\n",
    ")\n",
    "from evotorch.logging import StdOutLogger\n",
    "\n",
    "# Kursawe function with two conflicting objectives\n",
    "def kursawe(x: torch.Tensor) -> torch.Tensor:\n",
    "    f1 = torch.sum(\n",
    "        -10 * torch.exp(\n",
    "            -0.2 * torch.sqrt(x[:, 0:2] ** 2.0 + x[:, 1:3] ** 2.0)\n",
    "        ),\n",
    "        dim=-1,\n",
    "    )\n",
    "    f2 = torch.sum(\n",
    "        (torch.abs(x) ** 0.8) + (5 * torch.sin(x ** 3)),\n",
    "        dim=-1,\n",
    "    )\n",
    "    fitnesses = torch.stack([f1, f2], dim=-1)\n",
    "    print(fitnesses.shape)\n",
    "    return fitnesses\n",
    "\n",
    "kursawe(torch.tensor([[4,5,6,7]]))\n",
    "\n",
    "# prob = Problem(\n",
    "#     # Two objectives, both minimization\n",
    "#     [\"min\", \"min\"],\n",
    "#     kursawe,\n",
    "#     initial_bounds=(-5.0, 5.0),\n",
    "#     solution_length=3,\n",
    "#     vectorized=True,\n",
    "# )\n",
    "\n",
    "# # Works like NSGA-II for multiple objectives\n",
    "# ga = SteadyStateGA(prob, popsize=200)\n",
    "# ga.use(\n",
    "#     SimulatedBinaryCrossOver(\n",
    "#         prob,\n",
    "#         tournament_size=4,\n",
    "#         cross_over_rate=1.0,\n",
    "#         eta=8,\n",
    "#     )\n",
    "# )\n",
    "# ga.use(GaussianMutation(prob, stdev=0.03))\n",
    "# logger = StdOutLogger(ga)\n",
    "\n",
    "# ga.run(100)"
   ]
  },
  {
   "cell_type": "code",
   "execution_count": null,
   "metadata": {},
   "outputs": [],
   "source": []
  }
 ],
 "metadata": {
  "kernelspec": {
   "display_name": "evotorch",
   "language": "python",
   "name": "python3"
  },
  "language_info": {
   "codemirror_mode": {
    "name": "ipython",
    "version": 3
   },
   "file_extension": ".py",
   "mimetype": "text/x-python",
   "name": "python",
   "nbconvert_exporter": "python",
   "pygments_lexer": "ipython3",
   "version": "3.9.16"
  },
  "orig_nbformat": 4
 },
 "nbformat": 4,
 "nbformat_minor": 2
}
