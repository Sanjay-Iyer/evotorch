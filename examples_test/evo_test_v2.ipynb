{
 "cells": [
  {
   "cell_type": "code",
   "execution_count": 24,
   "metadata": {},
   "outputs": [],
   "source": [
    "import torch\n",
    "from torch import nn\n",
    "from evotorch import Problem\n",
    "from evotorch.algorithms import SNES\n",
    "from evotorch.logging import StdOutLogger\n",
    "\n",
    "from evotorch import Problem\n",
    "from evotorch.algorithms import CEM\n",
    "from evotorch.decorators import vectorized\n",
    "\n",
    "from evotorch import Problem\n",
    "from evotorch.algorithms import GeneticAlgorithm\n",
    "from evotorch.decorators import vectorized\n",
    "from evotorch.operators import SimulatedBinaryCrossOver\n",
    "from evotorch.operators import PolynomialMutation\n",
    "\n",
    "from evotorch import Problem\n",
    "from evotorch.algorithms import GeneticAlgorithm\n",
    "from evotorch.decorators import vectorized\n",
    "from evotorch.operators import TwoPointCrossOver\n",
    "\n",
    "\n",
    "\n",
    "from evotorch.algorithms import XNES\n"
   ]
  },
  {
   "cell_type": "code",
   "execution_count": 25,
   "metadata": {},
   "outputs": [],
   "source": [
    "# #prompt for output\n",
    "def prompt(parameters: torch.Tensor) -> torch.Tensor:\n",
    "    #prompt user for input from jupyter notebook\n",
    "    print('Please run instrument with voltages {}'.format(parameters))\n",
    "    return torch.tensor(float(input(\"Enter a number: \")))\n",
    "# @vectorized\n",
    "# def fitness(x: torch.Tensor) -> torch.Tensor:\n",
    "#     return torch.linalg.norm(x, dim=-1)"
   ]
  },
  {
   "cell_type": "code",
   "execution_count": 37,
   "metadata": {},
   "outputs": [
    {
     "name": "stdout",
     "output_type": "stream",
     "text": [
      "[2023-03-04 04:36:35] INFO     < 3850> evotorch.core: Instance of `Problem` (id:140201642763216) -- The `dtype` for the problem's decision variables is set as torch.float32\n",
      "[2023-03-04 04:36:35] INFO     < 3850> evotorch.core: Instance of `Problem` (id:140201642763216) -- `eval_dtype` (the dtype of the fitnesses and evaluation data) is set as torch.float32\n",
      "[2023-03-04 04:36:35] INFO     < 3850> evotorch.core: Instance of `Problem` (id:140201642763216) -- The `device` of the problem is set as cpu\n",
      "[2023-03-04 04:36:35] INFO     < 3850> evotorch.core: Instance of `Problem` (id:140201642763216) -- The number of actors that will be allocated for parallelized evaluation is 0\n"
     ]
    },
    {
     "data": {
      "text/plain": [
       "<evotorch.core.Problem at 0x7f833d1d23d0>"
      ]
     },
     "execution_count": 37,
     "metadata": {},
     "output_type": "execute_result"
    }
   ],
   "source": [
    "problem = Problem(\n",
    "    'max',\n",
    "    prompt,\n",
    "   # fitness,\n",
    "    solution_length = 3,\n",
    "    #initial_bounds=([35,50],[45,100]),\n",
    "    bounds=(\n",
    "    [30,1,0.33],\n",
    "    [140,45,0.66]\n",
    "            ),\n",
    "    dtype=torch.float32,\n",
    "    #device='cpu'\n",
    ")\n",
    "problem\n",
    "# components = {\n",
    "#               'temperature':np.arange(30,140,3).tolist(),   # Discrete grid of concentrations\n",
    "#               'time': np.arange(1,45,2).tolist(),\n",
    "#               'mfp': np.arange(0.33,0.66,0.025).tolist()}"
   ]
  },
  {
   "cell_type": "code",
   "execution_count": 38,
   "metadata": {},
   "outputs": [],
   "source": [
    "def my_own_gaussian_mutation(x: torch.Tensor) -> torch.Tensor:\n",
    "    # The default GaussianMutation of EvoTorch does not (yet) support different standard deviation values\n",
    "    # per variable. However, we can define our own mutation operator which adds noise of different magnitudes\n",
    "    # to different variables, like in this example:\n",
    "    [_, solution_length] = x.shape\n",
    "    dtype = x.dtype\n",
    "    device = x.device\n",
    "\n",
    "    # Generate Gaussian noise where each column has its own magnitude\n",
    "    noise = (\n",
    "        torch.randn(solution_length, dtype=dtype, device=device)\n",
    "        * torch.tensor([3, 2, 0.025], dtype=dtype, device=device)\n",
    "    )\n",
    "\n",
    "    return x + noise"
   ]
  },
  {
   "cell_type": "code",
   "execution_count": 44,
   "metadata": {},
   "outputs": [
    {
     "name": "stdout",
     "output_type": "stream",
     "text": [
      "Please run instrument with voltages ReadOnlyTensor([105.2008,  44.2528,   0.4365])\n",
      "Please run instrument with voltages ReadOnlyTensor([102.5616,  41.0772,   0.4454])\n",
      "         iter : 1\n",
      "pop_best_eval : 5.0\n",
      "    mean_eval : 5.0\n",
      "  median_eval : 5.0\n",
      "    best_eval : 87310.0\n",
      "   worst_eval : 1.0\n",
      "\n"
     ]
    }
   ],
   "source": [
    "#searcher = GeneticAlgorithm(problem, \n",
    "#                problem,\n",
    "#                stdev_init=[1,5,2]\n",
    "#                            )\n",
    "\n",
    "searcher = GeneticAlgorithm(\n",
    "    problem,\n",
    "    popsize=1,\n",
    "    operators=[my_own_gaussian_mutation]\n",
    "       #TwoPointCrossOver(problem, tournament_size=1)\n",
    "   # ],\n",
    ")\n",
    "\n",
    "_ = StdOutLogger(searcher, interval=1)\n",
    "\n",
    "searcher.run(num_generations=1)\n",
    "#searcher"
   ]
  },
  {
   "cell_type": "code",
   "execution_count": 40,
   "metadata": {},
   "outputs": [
    {
     "data": {
      "text/plain": [
       "[<Solution values=tensor([76.6061, 26.8013,  0.3939]), evals=tensor([87310.])>,\n",
       " <Solution values=tensor([116.5776,   8.6780,   0.4550]), evals=tensor([63546.])>,\n",
       " <Solution values=tensor([115.4003,  33.1872,   0.3420]), evals=tensor([15661.])>,\n",
       " <Solution values=tensor([142.8780,  35.0637,   0.3597]), evals=tensor([6544.])>,\n",
       " <Solution values=tensor([52.8484, 28.9111,  0.6436]), evals=tensor([4851.])>]"
      ]
     },
     "execution_count": 40,
     "metadata": {},
     "output_type": "execute_result"
    }
   ],
   "source": [
    "list(searcher.population[:10])"
   ]
  }
 ],
 "metadata": {
  "kernelspec": {
   "display_name": "evotorch",
   "language": "python",
   "name": "python3"
  },
  "language_info": {
   "codemirror_mode": {
    "name": "ipython",
    "version": 3
   },
   "file_extension": ".py",
   "mimetype": "text/x-python",
   "name": "python",
   "nbconvert_exporter": "python",
   "pygments_lexer": "ipython3",
   "version": "3.9.16"
  },
  "orig_nbformat": 4
 },
 "nbformat": 4,
 "nbformat_minor": 2
}
