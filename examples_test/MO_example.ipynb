{
 "cells": [
  {
   "cell_type": "code",
   "execution_count": 2,
   "metadata": {},
   "outputs": [
    {
     "name": "stdout",
     "output_type": "stream",
     "text": [
      "[2023-04-03 16:09:14] INFO     < 2442> evotorch.core: Instance of `Problem` (id:140397249811120) -- The `dtype` for the problem's decision variables is set as torch.float32\n",
      "[2023-04-03 16:09:14] INFO     < 2442> evotorch.core: Instance of `Problem` (id:140397249811120) -- `eval_dtype` (the dtype of the fitnesses and evaluation data) is set as torch.float32\n",
      "[2023-04-03 16:09:14] INFO     < 2442> evotorch.core: Instance of `Problem` (id:140397249811120) -- The `device` of the problem is set as cpu\n",
      "[2023-04-03 16:09:14] INFO     < 2442> evotorch.core: Instance of `Problem` (id:140397249811120) -- The number of actors that will be allocated for parallelized evaluation is 0\n"
     ]
    },
    {
     "ename": "ValueError",
     "evalue": "Cannot compute the utility values, because there are solutions which are not evaluated yet.",
     "output_type": "error",
     "traceback": [
      "\u001b[0;31m---------------------------------------------------------------------------\u001b[0m",
      "\u001b[0;31mValueError\u001b[0m                                Traceback (most recent call last)",
      "Cell \u001b[0;32mIn[2], line 47\u001b[0m\n\u001b[1;32m     44\u001b[0m ga\u001b[39m.\u001b[39muse(GaussianMutation(prob, stdev\u001b[39m=\u001b[39m\u001b[39m0.03\u001b[39m))\n\u001b[1;32m     45\u001b[0m logger \u001b[39m=\u001b[39m StdOutLogger(ga)\n\u001b[0;32m---> 47\u001b[0m ga\u001b[39m.\u001b[39;49mrun(\u001b[39m100\u001b[39;49m)\n",
      "File \u001b[0;32m~/anaconda3/envs/evotorch/lib/python3.9/site-packages/evotorch/algorithms/searchalgorithm.py:425\u001b[0m, in \u001b[0;36mSearchAlgorithm.run\u001b[0;34m(self, num_generations, reset_first_step_datetime)\u001b[0m\n\u001b[1;32m    422\u001b[0m     \u001b[39mself\u001b[39m\u001b[39m.\u001b[39mreset_first_step_datetime()\n\u001b[1;32m    424\u001b[0m \u001b[39mfor\u001b[39;00m _ \u001b[39min\u001b[39;00m \u001b[39mrange\u001b[39m(\u001b[39mint\u001b[39m(num_generations)):\n\u001b[0;32m--> 425\u001b[0m     \u001b[39mself\u001b[39;49m\u001b[39m.\u001b[39;49mstep()\n\u001b[1;32m    427\u001b[0m \u001b[39mif\u001b[39;00m \u001b[39mlen\u001b[39m(\u001b[39mself\u001b[39m\u001b[39m.\u001b[39m_end_of_run_hook) \u001b[39m>\u001b[39m\u001b[39m=\u001b[39m \u001b[39m1\u001b[39m:\n\u001b[1;32m    428\u001b[0m     \u001b[39mself\u001b[39m\u001b[39m.\u001b[39m_end_of_run_hook(\u001b[39mdict\u001b[39m(\u001b[39mself\u001b[39m\u001b[39m.\u001b[39mstatus))\n",
      "File \u001b[0;32m~/anaconda3/envs/evotorch/lib/python3.9/site-packages/evotorch/algorithms/searchalgorithm.py:390\u001b[0m, in \u001b[0;36mSearchAlgorithm.step\u001b[0;34m(self)\u001b[0m\n\u001b[1;32m    387\u001b[0m \u001b[39mif\u001b[39;00m \u001b[39mself\u001b[39m\u001b[39m.\u001b[39m_first_step_datetime \u001b[39mis\u001b[39;00m \u001b[39mNone\u001b[39;00m:\n\u001b[1;32m    388\u001b[0m     \u001b[39mself\u001b[39m\u001b[39m.\u001b[39m_first_step_datetime \u001b[39m=\u001b[39m datetime\u001b[39m.\u001b[39mnow()\n\u001b[0;32m--> 390\u001b[0m \u001b[39mself\u001b[39;49m\u001b[39m.\u001b[39;49m_step()\n\u001b[1;32m    391\u001b[0m \u001b[39mself\u001b[39m\u001b[39m.\u001b[39m_steps_count \u001b[39m+\u001b[39m\u001b[39m=\u001b[39m \u001b[39m1\u001b[39m\n\u001b[1;32m    392\u001b[0m \u001b[39mself\u001b[39m\u001b[39m.\u001b[39mupdate_status({\u001b[39m\"\u001b[39m\u001b[39miter\u001b[39m\u001b[39m\"\u001b[39m: \u001b[39mself\u001b[39m\u001b[39m.\u001b[39m_steps_count})\n",
      "File \u001b[0;32m~/anaconda3/envs/evotorch/lib/python3.9/site-packages/evotorch/algorithms/ga.py:866\u001b[0m, in \u001b[0;36mSteadyStateGA._step\u001b[0;34m(self)\u001b[0m\n\u001b[1;32m    859\u001b[0m     \u001b[39mif\u001b[39;00m \u001b[39mlen\u001b[39m(\u001b[39mself\u001b[39m\u001b[39m.\u001b[39m_operators) \u001b[39m==\u001b[39m \u001b[39m0\u001b[39m:\n\u001b[1;32m    860\u001b[0m         \u001b[39mraise\u001b[39;00m \u001b[39mRuntimeError\u001b[39;00m(\n\u001b[1;32m    861\u001b[0m             \u001b[39mf\u001b[39m\u001b[39m\"\u001b[39m\u001b[39mThis \u001b[39m\u001b[39m{\u001b[39;00m\u001b[39mtype\u001b[39m(\u001b[39mself\u001b[39m)\u001b[39m.\u001b[39m\u001b[39m__name__\u001b[39m\u001b[39m}\u001b[39;00m\u001b[39m instance does not know how to proceed, \u001b[39m\u001b[39m\"\u001b[39m\n\u001b[1;32m    862\u001b[0m             \u001b[39mf\u001b[39m\u001b[39m\"\u001b[39m\u001b[39m because neither the `operators` keyword argument was used during initialization\u001b[39m\u001b[39m\"\u001b[39m\n\u001b[1;32m    863\u001b[0m             \u001b[39mf\u001b[39m\u001b[39m\"\u001b[39m\u001b[39m nor was the `use(...)` method called later.\u001b[39m\u001b[39m\"\u001b[39m\n\u001b[1;32m    864\u001b[0m         )\n\u001b[0;32m--> 866\u001b[0m \u001b[39msuper\u001b[39;49m()\u001b[39m.\u001b[39;49m_step()\n",
      "File \u001b[0;32m~/anaconda3/envs/evotorch/lib/python3.9/site-packages/evotorch/algorithms/ga.py:646\u001b[0m, in \u001b[0;36mGeneticAlgorithm._step\u001b[0;34m(self)\u001b[0m\n\u001b[1;32m    640\u001b[0m popsize \u001b[39m=\u001b[39m \u001b[39mself\u001b[39m\u001b[39m.\u001b[39m_popsize\n\u001b[1;32m    642\u001b[0m \u001b[39mif\u001b[39;00m \u001b[39mself\u001b[39m\u001b[39m.\u001b[39m_elitist:\n\u001b[1;32m    643\u001b[0m     \u001b[39m# This is where we handle the elitist mode.\u001b[39;00m\n\u001b[1;32m    644\u001b[0m \n\u001b[1;32m    645\u001b[0m     \u001b[39m# Produce and get an extended population in a single SolutionBatch\u001b[39;00m\n\u001b[0;32m--> 646\u001b[0m     extended_population \u001b[39m=\u001b[39m \u001b[39mself\u001b[39;49m\u001b[39m.\u001b[39;49m_make_extended_population(split\u001b[39m=\u001b[39;49m\u001b[39mFalse\u001b[39;49;00m)\n\u001b[1;32m    648\u001b[0m     \u001b[39m# From the extended population, take the best n solutions, n being the popsize.\u001b[39;00m\n\u001b[1;32m    649\u001b[0m     \u001b[39mself\u001b[39m\u001b[39m.\u001b[39m_population \u001b[39m=\u001b[39m extended_population\u001b[39m.\u001b[39mtake_best(popsize)\n",
      "File \u001b[0;32m~/anaconda3/envs/evotorch/lib/python3.9/site-packages/evotorch/algorithms/ga.py:182\u001b[0m, in \u001b[0;36mExtendedPopulationMixin._make_extended_population\u001b[0;34m(self, split)\u001b[0m\n\u001b[1;32m    176\u001b[0m         \u001b[39mreturn\u001b[39;00m SolutionBatch\u001b[39m.\u001b[39mcat([population, children])\n\u001b[1;32m    177\u001b[0m \u001b[39melse\u001b[39;00m:\n\u001b[1;32m    178\u001b[0m     \u001b[39m# This is the case where our mixin is configured to evaluate the parents and the children in one go.\u001b[39;00m\n\u001b[1;32m    179\u001b[0m     \u001b[39m# This is a sub-case of `_re_evaluate=True`.\u001b[39;00m\n\u001b[1;32m    180\u001b[0m \n\u001b[1;32m    181\u001b[0m     \u001b[39m# Use the operators on the parent solutions. It does not matter whether or not the parents are evaluated.\u001b[39;00m\n\u001b[0;32m--> 182\u001b[0m     children \u001b[39m=\u001b[39m _use_operators(population, \u001b[39mself\u001b[39;49m\u001b[39m.\u001b[39;49m_operators)\n\u001b[1;32m    184\u001b[0m     \u001b[39m# Form an extended population by concatenating the population and the children.\u001b[39;00m\n\u001b[1;32m    185\u001b[0m     extended_population \u001b[39m=\u001b[39m SolutionBatch\u001b[39m.\u001b[39mcat([population, children])\n",
      "File \u001b[0;32m~/anaconda3/envs/evotorch/lib/python3.9/site-packages/evotorch/algorithms/ga.py:44\u001b[0m, in \u001b[0;36m_use_operators\u001b[0;34m(batch, operators)\u001b[0m\n\u001b[1;32m     42\u001b[0m \u001b[39mdef\u001b[39;00m \u001b[39m_use_operators\u001b[39m(batch: SolutionBatch, operators: Iterable) \u001b[39m-\u001b[39m\u001b[39m>\u001b[39m SolutionBatch:\n\u001b[1;32m     43\u001b[0m     \u001b[39mfor\u001b[39;00m operator \u001b[39min\u001b[39;00m operators:\n\u001b[0;32m---> 44\u001b[0m         batch \u001b[39m=\u001b[39m _use_operator(batch, operator)\n\u001b[1;32m     45\u001b[0m     \u001b[39mreturn\u001b[39;00m batch\n",
      "File \u001b[0;32m~/anaconda3/envs/evotorch/lib/python3.9/site-packages/evotorch/algorithms/ga.py:30\u001b[0m, in \u001b[0;36m_use_operator\u001b[0;34m(batch, operator)\u001b[0m\n\u001b[1;32m     27\u001b[0m \u001b[39mfrom\u001b[39;00m \u001b[39m.\u001b[39;00m\u001b[39m.\u001b[39;00m\u001b[39moperators\u001b[39;00m \u001b[39mimport\u001b[39;00m CopyingOperator, Operator\n\u001b[1;32m     29\u001b[0m \u001b[39mif\u001b[39;00m \u001b[39misinstance\u001b[39m(operator, CopyingOperator):\n\u001b[0;32m---> 30\u001b[0m     result \u001b[39m=\u001b[39m operator(batch)\n\u001b[1;32m     31\u001b[0m \u001b[39melif\u001b[39;00m \u001b[39misinstance\u001b[39m(operator, Operator):\n\u001b[1;32m     32\u001b[0m     result \u001b[39m=\u001b[39m batch\u001b[39m.\u001b[39mclone()\n",
      "File \u001b[0;32m~/anaconda3/envs/evotorch/lib/python3.9/site-packages/evotorch/operators/base.py:148\u001b[0m, in \u001b[0;36mCopyingOperator.__call__\u001b[0;34m(self, batch)\u001b[0m\n\u001b[1;32m    147\u001b[0m \u001b[39mdef\u001b[39;00m \u001b[39m__call__\u001b[39m(\u001b[39mself\u001b[39m, batch: SolutionBatch) \u001b[39m-\u001b[39m\u001b[39m>\u001b[39m SolutionBatch:\n\u001b[0;32m--> 148\u001b[0m     \u001b[39mreturn\u001b[39;00m \u001b[39mself\u001b[39;49m\u001b[39m.\u001b[39;49m_do(batch)\n",
      "File \u001b[0;32m~/anaconda3/envs/evotorch/lib/python3.9/site-packages/evotorch/operators/base.py:406\u001b[0m, in \u001b[0;36mCrossOver._do\u001b[0;34m(self, batch)\u001b[0m\n\u001b[1;32m    405\u001b[0m \u001b[39mdef\u001b[39;00m \u001b[39m_do\u001b[39m(\u001b[39mself\u001b[39m, batch: SolutionBatch) \u001b[39m-\u001b[39m\u001b[39m>\u001b[39m SolutionBatch:\n\u001b[0;32m--> 406\u001b[0m     parents1, parents2 \u001b[39m=\u001b[39m \u001b[39mself\u001b[39;49m\u001b[39m.\u001b[39;49m_do_tournament(batch)\n\u001b[1;32m    407\u001b[0m     \u001b[39mif\u001b[39;00m \u001b[39mlen\u001b[39m(parents1) \u001b[39m!=\u001b[39m \u001b[39mlen\u001b[39m(parents2):\n\u001b[1;32m    408\u001b[0m         \u001b[39mraise\u001b[39;00m \u001b[39mValueError\u001b[39;00m(\n\u001b[1;32m    409\u001b[0m             \u001b[39mf\u001b[39m\u001b[39m\"\u001b[39m\u001b[39m_do_tournament() returned parents1 and parents2 with incompatible sizes. \u001b[39m\u001b[39m\"\u001b[39m\n\u001b[1;32m    410\u001b[0m             \u001b[39mf\u001b[39m\u001b[39m\"\u001b[39m\u001b[39mlen(parents1): \u001b[39m\u001b[39m{\u001b[39;00m\u001b[39mlen\u001b[39m(parents1)\u001b[39m}\u001b[39;00m\u001b[39m; len(parents2): \u001b[39m\u001b[39m{\u001b[39;00m\u001b[39mlen\u001b[39m(parents2)\u001b[39m}\u001b[39;00m\u001b[39m.\u001b[39m\u001b[39m\"\u001b[39m\n\u001b[1;32m    411\u001b[0m         )\n",
      "File \u001b[0;32m~/anaconda3/envs/evotorch/lib/python3.9/site-packages/torch/autograd/grad_mode.py:27\u001b[0m, in \u001b[0;36m_DecoratorContextManager.__call__.<locals>.decorate_context\u001b[0;34m(*args, **kwargs)\u001b[0m\n\u001b[1;32m     24\u001b[0m \u001b[39m@functools\u001b[39m\u001b[39m.\u001b[39mwraps(func)\n\u001b[1;32m     25\u001b[0m \u001b[39mdef\u001b[39;00m \u001b[39mdecorate_context\u001b[39m(\u001b[39m*\u001b[39margs, \u001b[39m*\u001b[39m\u001b[39m*\u001b[39mkwargs):\n\u001b[1;32m     26\u001b[0m     \u001b[39mwith\u001b[39;00m \u001b[39mself\u001b[39m\u001b[39m.\u001b[39mclone():\n\u001b[0;32m---> 27\u001b[0m         \u001b[39mreturn\u001b[39;00m func(\u001b[39m*\u001b[39;49margs, \u001b[39m*\u001b[39;49m\u001b[39m*\u001b[39;49mkwargs)\n",
      "File \u001b[0;32m~/anaconda3/envs/evotorch/lib/python3.9/site-packages/evotorch/operators/base.py:273\u001b[0m, in \u001b[0;36mCrossOver._do_tournament\u001b[0;34m(self, batch)\u001b[0m\n\u001b[1;32m    266\u001b[0m num_tournaments \u001b[39m=\u001b[39m \u001b[39mself\u001b[39m\u001b[39m.\u001b[39m_compute_num_tournaments(batch)\n\u001b[1;32m    268\u001b[0m \u001b[39mif\u001b[39;00m \u001b[39mself\u001b[39m\u001b[39m.\u001b[39m_problem\u001b[39m.\u001b[39mis_multi_objective \u001b[39mand\u001b[39;00m \u001b[39mself\u001b[39m\u001b[39m.\u001b[39m_obj_index \u001b[39mis\u001b[39;00m \u001b[39mNone\u001b[39;00m:\n\u001b[1;32m    269\u001b[0m     \u001b[39m# If the problem is multi-objective, and an objective index is not specified,\u001b[39;00m\n\u001b[1;32m    270\u001b[0m     \u001b[39m# then we do a multi-objective-specific cross-over\u001b[39;00m\n\u001b[1;32m    271\u001b[0m \n\u001b[1;32m    272\u001b[0m     \u001b[39m# At first, pareto-sort the solutions\u001b[39;00m\n\u001b[0;32m--> 273\u001b[0m     ranks, _ \u001b[39m=\u001b[39m batch\u001b[39m.\u001b[39;49mcompute_pareto_ranks(crowdsort\u001b[39m=\u001b[39;49m\u001b[39mFalse\u001b[39;49;00m)\n\u001b[1;32m    274\u001b[0m     n_fronts \u001b[39m=\u001b[39m torch\u001b[39m.\u001b[39mamax(ranks) \u001b[39m+\u001b[39m \u001b[39m1\u001b[39m\n\u001b[1;32m    276\u001b[0m     \u001b[39m# In NSGA-II-inspired pareto-sorting, smallest rank means the best front.\u001b[39;00m\n\u001b[1;32m    277\u001b[0m     \u001b[39m# Right now, we want the opposite: we want the solutions in the best front\u001b[39;00m\n\u001b[1;32m    278\u001b[0m     \u001b[39m# to have rank values which are numerically highest.\u001b[39;00m\n\u001b[1;32m    279\u001b[0m     \u001b[39m# The following line re-arranges the rank values such that the solutions\u001b[39;00m\n\u001b[1;32m    280\u001b[0m     \u001b[39m# in the best front have their ranks equal to n_fronts, and the ones\u001b[39;00m\n\u001b[1;32m    281\u001b[0m     \u001b[39m# in the worst front have their ranks equal to 1.\u001b[39;00m\n",
      "File \u001b[0;32m~/anaconda3/envs/evotorch/lib/python3.9/site-packages/torch/autograd/grad_mode.py:27\u001b[0m, in \u001b[0;36m_DecoratorContextManager.__call__.<locals>.decorate_context\u001b[0;34m(*args, **kwargs)\u001b[0m\n\u001b[1;32m     24\u001b[0m \u001b[39m@functools\u001b[39m\u001b[39m.\u001b[39mwraps(func)\n\u001b[1;32m     25\u001b[0m \u001b[39mdef\u001b[39;00m \u001b[39mdecorate_context\u001b[39m(\u001b[39m*\u001b[39margs, \u001b[39m*\u001b[39m\u001b[39m*\u001b[39mkwargs):\n\u001b[1;32m     26\u001b[0m     \u001b[39mwith\u001b[39;00m \u001b[39mself\u001b[39m\u001b[39m.\u001b[39mclone():\n\u001b[0;32m---> 27\u001b[0m         \u001b[39mreturn\u001b[39;00m func(\u001b[39m*\u001b[39;49margs, \u001b[39m*\u001b[39;49m\u001b[39m*\u001b[39;49mkwargs)\n",
      "File \u001b[0;32m~/anaconda3/envs/evotorch/lib/python3.9/site-packages/evotorch/core.py:3597\u001b[0m, in \u001b[0;36mSolutionBatch.compute_pareto_ranks\u001b[0;34m(self, crowdsort)\u001b[0m\n\u001b[1;32m   3579\u001b[0m \u001b[39m@torch\u001b[39m\u001b[39m.\u001b[39mno_grad()\n\u001b[1;32m   3580\u001b[0m \u001b[39mdef\u001b[39;00m \u001b[39mcompute_pareto_ranks\u001b[39m(\u001b[39mself\u001b[39m, crowdsort: \u001b[39mbool\u001b[39m \u001b[39m=\u001b[39m \u001b[39mTrue\u001b[39;00m) \u001b[39m-\u001b[39m\u001b[39m>\u001b[39m Tuple[torch\u001b[39m.\u001b[39mTensor, torch\u001b[39m.\u001b[39mTensor]:\n\u001b[1;32m   3581\u001b[0m \u001b[39m    \u001b[39m\u001b[39m\"\"\"\u001b[39;00m\n\u001b[1;32m   3582\u001b[0m \u001b[39m    Compute the pareto-ranks of the solutions in the batch.\u001b[39;00m\n\u001b[1;32m   3583\u001b[0m \u001b[39m    Args:\u001b[39;00m\n\u001b[0;32m   (...)\u001b[0m\n\u001b[1;32m   3595\u001b[0m \u001b[39m                            worst crowding score within a front is assigned rank K-1.\u001b[39;00m\n\u001b[1;32m   3596\u001b[0m \u001b[39m    \"\"\"\u001b[39;00m\n\u001b[0;32m-> 3597\u001b[0m     utils \u001b[39m=\u001b[39m \u001b[39mself\u001b[39;49m\u001b[39m.\u001b[39;49mutils()\n\u001b[1;32m   3599\u001b[0m     ranks, crowdsort_ranks \u001b[39m=\u001b[39m _compute_pareto_ranks(utils, crowdsort)\n\u001b[1;32m   3601\u001b[0m     \u001b[39mreturn\u001b[39;00m ranks, crowdsort_ranks\n",
      "File \u001b[0;32m~/anaconda3/envs/evotorch/lib/python3.9/site-packages/torch/autograd/grad_mode.py:27\u001b[0m, in \u001b[0;36m_DecoratorContextManager.__call__.<locals>.decorate_context\u001b[0;34m(*args, **kwargs)\u001b[0m\n\u001b[1;32m     24\u001b[0m \u001b[39m@functools\u001b[39m\u001b[39m.\u001b[39mwraps(func)\n\u001b[1;32m     25\u001b[0m \u001b[39mdef\u001b[39;00m \u001b[39mdecorate_context\u001b[39m(\u001b[39m*\u001b[39margs, \u001b[39m*\u001b[39m\u001b[39m*\u001b[39mkwargs):\n\u001b[1;32m     26\u001b[0m     \u001b[39mwith\u001b[39;00m \u001b[39mself\u001b[39m\u001b[39m.\u001b[39mclone():\n\u001b[0;32m---> 27\u001b[0m         \u001b[39mreturn\u001b[39;00m func(\u001b[39m*\u001b[39;49margs, \u001b[39m*\u001b[39;49m\u001b[39m*\u001b[39;49mkwargs)\n",
      "File \u001b[0;32m~/anaconda3/envs/evotorch/lib/python3.9/site-packages/evotorch/core.py:4075\u001b[0m, in \u001b[0;36mSolutionBatch.utils\u001b[0;34m(self, ranking_method, check_nans, using_values_dtype)\u001b[0m\n\u001b[1;32m   4037\u001b[0m \u001b[39m@torch\u001b[39m\u001b[39m.\u001b[39mno_grad()\n\u001b[1;32m   4038\u001b[0m \u001b[39mdef\u001b[39;00m \u001b[39mutils\u001b[39m(\n\u001b[1;32m   4039\u001b[0m     \u001b[39mself\u001b[39m,\n\u001b[0;32m   (...)\u001b[0m\n\u001b[1;32m   4043\u001b[0m     using_values_dtype: \u001b[39mbool\u001b[39m \u001b[39m=\u001b[39m \u001b[39mFalse\u001b[39;00m,\n\u001b[1;32m   4044\u001b[0m ) \u001b[39m-\u001b[39m\u001b[39m>\u001b[39m torch\u001b[39m.\u001b[39mTensor:\n\u001b[1;32m   4045\u001b[0m \u001b[39m    \u001b[39m\u001b[39m\"\"\"\u001b[39;00m\n\u001b[1;32m   4046\u001b[0m \u001b[39m    Return numeric scores for each solution, and for each objective.\u001b[39;00m\n\u001b[1;32m   4047\u001b[0m \u001b[39m    Utility scores are different from evaluation results,\u001b[39;00m\n\u001b[0;32m   (...)\u001b[0m\n\u001b[1;32m   4073\u001b[0m \n\u001b[1;32m   4074\u001b[0m \u001b[39m    \"\"\"\u001b[39;00m\n\u001b[0;32m-> 4075\u001b[0m     result \u001b[39m=\u001b[39m \u001b[39mself\u001b[39;49m\u001b[39m.\u001b[39;49mutility(\n\u001b[1;32m   4076\u001b[0m         ranking_method\u001b[39m=\u001b[39;49mranking_method, check_nans\u001b[39m=\u001b[39;49mcheck_nans, using_values_dtype\u001b[39m=\u001b[39;49musing_values_dtype\n\u001b[1;32m   4077\u001b[0m     )\n\u001b[1;32m   4078\u001b[0m     \u001b[39mif\u001b[39;00m result\u001b[39m.\u001b[39mndim \u001b[39m==\u001b[39m \u001b[39m1\u001b[39m:\n\u001b[1;32m   4079\u001b[0m         result \u001b[39m=\u001b[39m result\u001b[39m.\u001b[39mview(\u001b[39mlen\u001b[39m(result), \u001b[39m1\u001b[39m)\n",
      "File \u001b[0;32m~/anaconda3/envs/evotorch/lib/python3.9/site-packages/torch/autograd/grad_mode.py:27\u001b[0m, in \u001b[0;36m_DecoratorContextManager.__call__.<locals>.decorate_context\u001b[0;34m(*args, **kwargs)\u001b[0m\n\u001b[1;32m     24\u001b[0m \u001b[39m@functools\u001b[39m\u001b[39m.\u001b[39mwraps(func)\n\u001b[1;32m     25\u001b[0m \u001b[39mdef\u001b[39;00m \u001b[39mdecorate_context\u001b[39m(\u001b[39m*\u001b[39margs, \u001b[39m*\u001b[39m\u001b[39m*\u001b[39mkwargs):\n\u001b[1;32m     26\u001b[0m     \u001b[39mwith\u001b[39;00m \u001b[39mself\u001b[39m\u001b[39m.\u001b[39mclone():\n\u001b[0;32m---> 27\u001b[0m         \u001b[39mreturn\u001b[39;00m func(\u001b[39m*\u001b[39;49margs, \u001b[39m*\u001b[39;49m\u001b[39m*\u001b[39;49mkwargs)\n",
      "File \u001b[0;32m~/anaconda3/envs/evotorch/lib/python3.9/site-packages/evotorch/core.py:4026\u001b[0m, in \u001b[0;36mSolutionBatch.utility\u001b[0;34m(self, obj_index, ranking_method, check_nans, using_values_dtype)\u001b[0m\n\u001b[1;32m   4021\u001b[0m     \u001b[39mreturn\u001b[39;00m \u001b[39mself\u001b[39m\u001b[39m.\u001b[39mutility(\n\u001b[1;32m   4022\u001b[0m         \u001b[39m0\u001b[39m, ranking_method\u001b[39m=\u001b[39mranking_method, check_nans\u001b[39m=\u001b[39mcheck_nans, using_values_dtype\u001b[39m=\u001b[39musing_values_dtype\n\u001b[1;32m   4023\u001b[0m     )\n\u001b[1;32m   4024\u001b[0m \u001b[39melse\u001b[39;00m:\n\u001b[1;32m   4025\u001b[0m     \u001b[39mreturn\u001b[39;00m torch\u001b[39m.\u001b[39mstack(\n\u001b[0;32m-> 4026\u001b[0m         [\n\u001b[1;32m   4027\u001b[0m             \u001b[39mself\u001b[39m\u001b[39m.\u001b[39mutility(\n\u001b[1;32m   4028\u001b[0m                 j,\n\u001b[1;32m   4029\u001b[0m                 ranking_method\u001b[39m=\u001b[39mranking_method,\n\u001b[1;32m   4030\u001b[0m                 check_nans\u001b[39m=\u001b[39mcheck_nans,\n\u001b[1;32m   4031\u001b[0m                 using_values_dtype\u001b[39m=\u001b[39musing_values_dtype,\n\u001b[1;32m   4032\u001b[0m             )\n\u001b[1;32m   4033\u001b[0m             \u001b[39mfor\u001b[39;00m j \u001b[39min\u001b[39;00m \u001b[39mrange\u001b[39m(\u001b[39mself\u001b[39m\u001b[39m.\u001b[39m_num_objs)\n\u001b[1;32m   4034\u001b[0m         ],\n\u001b[1;32m   4035\u001b[0m     )\u001b[39m.\u001b[39mT\n",
      "File \u001b[0;32m~/anaconda3/envs/evotorch/lib/python3.9/site-packages/evotorch/core.py:4027\u001b[0m, in \u001b[0;36m<listcomp>\u001b[0;34m(.0)\u001b[0m\n\u001b[1;32m   4021\u001b[0m     \u001b[39mreturn\u001b[39;00m \u001b[39mself\u001b[39m\u001b[39m.\u001b[39mutility(\n\u001b[1;32m   4022\u001b[0m         \u001b[39m0\u001b[39m, ranking_method\u001b[39m=\u001b[39mranking_method, check_nans\u001b[39m=\u001b[39mcheck_nans, using_values_dtype\u001b[39m=\u001b[39musing_values_dtype\n\u001b[1;32m   4023\u001b[0m     )\n\u001b[1;32m   4024\u001b[0m \u001b[39melse\u001b[39;00m:\n\u001b[1;32m   4025\u001b[0m     \u001b[39mreturn\u001b[39;00m torch\u001b[39m.\u001b[39mstack(\n\u001b[1;32m   4026\u001b[0m         [\n\u001b[0;32m-> 4027\u001b[0m             \u001b[39mself\u001b[39;49m\u001b[39m.\u001b[39;49mutility(\n\u001b[1;32m   4028\u001b[0m                 j,\n\u001b[1;32m   4029\u001b[0m                 ranking_method\u001b[39m=\u001b[39;49mranking_method,\n\u001b[1;32m   4030\u001b[0m                 check_nans\u001b[39m=\u001b[39;49mcheck_nans,\n\u001b[1;32m   4031\u001b[0m                 using_values_dtype\u001b[39m=\u001b[39;49musing_values_dtype,\n\u001b[1;32m   4032\u001b[0m             )\n\u001b[1;32m   4033\u001b[0m             \u001b[39mfor\u001b[39;00m j \u001b[39min\u001b[39;00m \u001b[39mrange\u001b[39m(\u001b[39mself\u001b[39m\u001b[39m.\u001b[39m_num_objs)\n\u001b[1;32m   4034\u001b[0m         ],\n\u001b[1;32m   4035\u001b[0m     )\u001b[39m.\u001b[39mT\n",
      "File \u001b[0;32m~/anaconda3/envs/evotorch/lib/python3.9/site-packages/torch/autograd/grad_mode.py:27\u001b[0m, in \u001b[0;36m_DecoratorContextManager.__call__.<locals>.decorate_context\u001b[0;34m(*args, **kwargs)\u001b[0m\n\u001b[1;32m     24\u001b[0m \u001b[39m@functools\u001b[39m\u001b[39m.\u001b[39mwraps(func)\n\u001b[1;32m     25\u001b[0m \u001b[39mdef\u001b[39;00m \u001b[39mdecorate_context\u001b[39m(\u001b[39m*\u001b[39margs, \u001b[39m*\u001b[39m\u001b[39m*\u001b[39mkwargs):\n\u001b[1;32m     26\u001b[0m     \u001b[39mwith\u001b[39;00m \u001b[39mself\u001b[39m\u001b[39m.\u001b[39mclone():\n\u001b[0;32m---> 27\u001b[0m         \u001b[39mreturn\u001b[39;00m func(\u001b[39m*\u001b[39;49margs, \u001b[39m*\u001b[39;49m\u001b[39m*\u001b[39;49mkwargs)\n",
      "File \u001b[0;32m~/anaconda3/envs/evotorch/lib/python3.9/site-packages/evotorch/core.py:4006\u001b[0m, in \u001b[0;36mSolutionBatch.utility\u001b[0;34m(self, obj_index, ranking_method, check_nans, using_values_dtype)\u001b[0m\n\u001b[1;32m   4004\u001b[0m \u001b[39mif\u001b[39;00m check_nans:\n\u001b[1;32m   4005\u001b[0m     \u001b[39mif\u001b[39;00m torch\u001b[39m.\u001b[39many(torch\u001b[39m.\u001b[39misnan(evdata)):\n\u001b[0;32m-> 4006\u001b[0m         \u001b[39mraise\u001b[39;00m \u001b[39mValueError\u001b[39;00m(\n\u001b[1;32m   4007\u001b[0m             \u001b[39m\"\u001b[39m\u001b[39mCannot compute the utility values, because there are solutions which are not evaluated yet.\u001b[39m\u001b[39m\"\u001b[39m\n\u001b[1;32m   4008\u001b[0m         )\n\u001b[1;32m   4010\u001b[0m \u001b[39mif\u001b[39;00m ranking_method \u001b[39mis\u001b[39;00m \u001b[39mNone\u001b[39;00m:\n\u001b[1;32m   4011\u001b[0m     result \u001b[39m=\u001b[39m evdata \u001b[39m*\u001b[39m \u001b[39mself\u001b[39m\u001b[39m.\u001b[39m_get_objective_sign(obj_index)\n",
      "\u001b[0;31mValueError\u001b[0m: Cannot compute the utility values, because there are solutions which are not evaluated yet."
     ]
    }
   ],
   "source": [
    "import torch\n",
    "from evotorch import Problem\n",
    "from evotorch.algorithms import SteadyStateGA\n",
    "from evotorch.operators import (\n",
    "    SimulatedBinaryCrossOver,\n",
    "    GaussianMutation,\n",
    ")\n",
    "from evotorch.logging import StdOutLogger\n",
    "\n",
    "# Kursawe function with two conflicting objectives\n",
    "def kursawe(x: torch.Tensor) -> torch.Tensor:\n",
    "    f1 = torch.sum(\n",
    "        -10 * torch.exp(\n",
    "            -0.2 * torch.sqrt(x[:, 0:2] ** 2.0 + x[:, 1:3] ** 2.0)\n",
    "        ),\n",
    "        dim=-1,\n",
    "    )\n",
    "    f2 = torch.sum(\n",
    "        (torch.abs(x) ** 0.8) + (5 * torch.sin(x ** 3)),\n",
    "        dim=-1,\n",
    "    )\n",
    "    fitnesses = torch.stack([f1, f2], dim=-1)\n",
    "    return fitnesses\n",
    "\n",
    "prob = Problem(\n",
    "    # Two objectives, both minimization\n",
    "    [\"min\", \"min\"],\n",
    "    kursawe,\n",
    "    initial_bounds=(-5.0, 5.0),\n",
    "    solution_length=3,\n",
    "    vectorized=True,\n",
    ")\n",
    "\n",
    "# Works like NSGA-II for multiple objectives\n",
    "ga = SteadyStateGA(prob, popsize=200)\n",
    "ga.use(\n",
    "    SimulatedBinaryCrossOver(\n",
    "        prob,\n",
    "        tournament_size=4,\n",
    "        cross_over_rate=1.0,\n",
    "        eta=8,\n",
    "    )\n",
    ")\n",
    "ga.use(GaussianMutation(prob, stdev=0.03))\n",
    "logger = StdOutLogger(ga)\n",
    "\n",
    "ga.run(100)"
   ]
  },
  {
   "cell_type": "code",
   "execution_count": 6,
   "metadata": {},
   "outputs": [
    {
     "name": "stdout",
     "output_type": "stream",
     "text": [
      "[2023-04-03 16:11:55] INFO     < 2442> evotorch.core: Instance of `Problem` (id:140394023367632) -- The `dtype` for the problem's decision variables is set as torch.float64\n",
      "[2023-04-03 16:11:55] INFO     < 2442> evotorch.core: Instance of `Problem` (id:140394023367632) -- `eval_dtype` (the dtype of the fitnesses and evaluation data) is set as torch.float64\n",
      "[2023-04-03 16:11:55] INFO     < 2442> evotorch.core: Instance of `Problem` (id:140394023367632) -- The `device` of the problem is set as cpu\n",
      "[2023-04-03 16:11:55] INFO     < 2442> evotorch.core: Instance of `Problem` (id:140394023367632) -- The number of actors that will be allocated for parallelized evaluation is 0\n",
      "torch.Size([1000, 50, 3])\n",
      "torch.Size([1000, 50, 3])\n",
      "torch.Size([1000, 50, 3])\n"
     ]
    }
   ],
   "source": [
    "import torch\n",
    "from evotorch.algorithms import SNES\n",
    "from evotorch.logging import StdOutLogger\n",
    "from evotorch import Problem\n",
    "\n",
    "# Minimize the Lennard-Jones atom cluster potential\n",
    "def pairwise_distances(positions: torch.Tensor) -> torch.Tensor:\n",
    "    positions = positions.view(positions.shape[0], -1, 3)\n",
    "    deltas = positions.unsqueeze(2) - positions.unsqueeze(1)\n",
    "    distances = torch.norm(deltas, dim=-1)\n",
    "    print(positions.shape)\n",
    "    return distances\n",
    "\n",
    "\n",
    "def cluster_potential(positions: torch.Tensor) -> torch.Tensor:\n",
    "    distances = pairwise_distances(positions)\n",
    "    pairwise_cost = (1 / distances).pow(12) - (1 / distances).pow(6.0)\n",
    "    ut_pairwise_cost = torch.triu(pairwise_cost, diagonal=1)\n",
    "    potential = 4 * ut_pairwise_cost.sum(dim=(1, 2))\n",
    "    return potential\n",
    "\n",
    "\n",
    "problem = Problem(\n",
    "    \"min\",\n",
    "    cluster_potential,\n",
    "    initial_bounds=(-1e-12, 1e-12),\n",
    "    device=\"cuda:0\" if torch.cuda.is_available() else \"cpu\",\n",
    "    solution_length=150,\n",
    "    # Evaluation is vectorized\n",
    "    vectorized=True,\n",
    "    # Higher-than-default precision\n",
    "    dtype=torch.float64,\n",
    ")\n",
    "\n",
    "searcher = SNES(problem, popsize=1000, stdev_init=0.01)\n",
    "logger = StdOutLogger(searcher, interval=100)\n",
    "\n",
    "searcher.run(3)"
   ]
  }
 ],
 "metadata": {
  "kernelspec": {
   "display_name": "evotorch",
   "language": "python",
   "name": "python3"
  },
  "language_info": {
   "codemirror_mode": {
    "name": "ipython",
    "version": 3
   },
   "file_extension": ".py",
   "mimetype": "text/x-python",
   "name": "python",
   "nbconvert_exporter": "python",
   "pygments_lexer": "ipython3",
   "version": "3.9.16"
  },
  "orig_nbformat": 4,
  "vscode": {
   "interpreter": {
    "hash": "3db9b43c88abccf0b9effbcaa0485e4629e95c39c2f919c98e73dc06a2b5927a"
   }
  }
 },
 "nbformat": 4,
 "nbformat_minor": 2
}
