{
 "cells": [
  {
   "cell_type": "code",
   "execution_count": 10,
   "metadata": {},
   "outputs": [],
   "source": [
    "import torch\n",
    "from torch import nn\n",
    "from evotorch import Problem\n",
    "from evotorch.algorithms import SNES\n",
    "from evotorch.logging import StdOutLogger\n",
    "\n",
    "from evotorch import Problem\n",
    "from evotorch.algorithms import CEM\n",
    "from evotorch.decorators import vectorized\n",
    "\n"
   ]
  },
  {
   "cell_type": "code",
   "execution_count": 38,
   "metadata": {},
   "outputs": [],
   "source": [
    "# #prompt for output\n",
    "def prompt(parameters: torch.Tensor) -> torch.Tensor:\n",
    "    #prompt user for input from jupyter notebook\n",
    "    print('Please run instrument with voltages {}'.format(parameters))\n",
    "    return torch.tensor(float(input(\"Enter a number: \")))\n",
    "# @vectorized\n",
    "# def fitness(x: torch.Tensor) -> torch.Tensor:\n",
    "#     return torch.linalg.norm(x, dim=-1)"
   ]
  },
  {
   "cell_type": "code",
   "execution_count": 39,
   "metadata": {},
   "outputs": [
    {
     "name": "stdout",
     "output_type": "stream",
     "text": [
      "[2023-03-04 03:47:12] INFO     < 3487> evotorch.core: Instance of `Problem` (id:140447978606352) -- The `dtype` for the problem's decision variables is set as torch.float32\n",
      "[2023-03-04 03:47:12] INFO     < 3487> evotorch.core: Instance of `Problem` (id:140447978606352) -- `eval_dtype` (the dtype of the fitnesses and evaluation data) is set as torch.float32\n",
      "[2023-03-04 03:47:12] INFO     < 3487> evotorch.core: Instance of `Problem` (id:140447978606352) -- The `device` of the problem is set as cpu\n",
      "[2023-03-04 03:47:12] INFO     < 3487> evotorch.core: Instance of `Problem` (id:140447978606352) -- The number of actors that will be allocated for parallelized evaluation is 0\n"
     ]
    },
    {
     "data": {
      "text/plain": [
       "<evotorch.core.Problem at 0x7fbc97dfcf10>"
      ]
     },
     "execution_count": 39,
     "metadata": {},
     "output_type": "execute_result"
    }
   ],
   "source": [
    "problem = Problem(\n",
    "    'min',\n",
    "    prompt,\n",
    "   # fitness,\n",
    "    solution_length = 3,\n",
    "    #initial_bounds=([35,50],[45,100]),\n",
    "    initial_bounds=(\n",
    "    [35,50,-10],\n",
    "    [45,100,10]\n",
    "            ),\n",
    "    dtype=torch.float32,\n",
    "    #device='cpu'\n",
    ")\n",
    "problem"
   ]
  },
  {
   "cell_type": "code",
   "execution_count": 44,
   "metadata": {},
   "outputs": [
    {
     "name": "stdout",
     "output_type": "stream",
     "text": [
      "Please run instrument with voltages ReadOnlyTensor([36.0589, 63.5735, -3.8018])\n",
      "         iter : 1\n",
      "    mean_eval : 651651.0\n",
      "pop_best_eval : 651651.0\n",
      "  median_eval : 651651.0\n",
      "    best_eval : 6844.0\n",
      "   worst_eval : 98791416.0\n",
      "\n",
      "Please run instrument with voltages ReadOnlyTensor([ 36.3272,  60.3992, -11.2909])\n",
      "         iter : 2\n",
      "    mean_eval : 1651.0\n",
      "pop_best_eval : 1651.0\n",
      "  median_eval : 1651.0\n",
      "    best_eval : 1651.0\n",
      "   worst_eval : 98791416.0\n",
      "\n",
      "Please run instrument with voltages ReadOnlyTensor([ 34.0449,  62.1349, -11.4253])\n",
      "         iter : 3\n",
      "    mean_eval : 1561.0\n",
      "pop_best_eval : 1561.0\n",
      "  median_eval : 1561.0\n",
      "    best_eval : 1561.0\n",
      "   worst_eval : 98791416.0\n",
      "\n"
     ]
    }
   ],
   "source": [
    "searcher = SNES(problem, popsize=1,stdev_init=[1,5,2])\n",
    "_ = StdOutLogger(searcher, interval=1)\n",
    "\n",
    "searcher.run(num_generations=3)\n",
    "#searcher"
   ]
  },
  {
   "cell_type": "code",
   "execution_count": 37,
   "metadata": {},
   "outputs": [
    {
     "data": {
      "text/plain": [
       "[<Solution values=tensor([35.1600, 84.9772, -0.3080]), evals=tensor([91.9644])>,\n",
       " <Solution values=tensor([33.2533, 85.9735, -3.7732]), evals=tensor([92.2576])>,\n",
       " <Solution values=tensor([34.7085, 84.0138,  1.8304]), evals=tensor([90.9195])>,\n",
       " <Solution values=tensor([34.1475, 86.4696, -0.8108]), evals=tensor([92.9715])>,\n",
       " <Solution values=tensor([34.0668, 87.1706,  0.5305]), evals=tensor([93.5924])>,\n",
       " <Solution values=tensor([35.1186, 86.6016,  2.8970]), evals=tensor([93.4962])>,\n",
       " <Solution values=tensor([33.3474, 82.9430, -1.2068]), evals=tensor([89.4038])>,\n",
       " <Solution values=tensor([33.8928, 90.3435, -0.1587]), evals=tensor([96.4919])>,\n",
       " <Solution values=tensor([36.1994, 81.7646,  1.1799]), evals=tensor([89.4273])>,\n",
       " <Solution values=tensor([34.4882, 88.4817,  0.4372]), evals=tensor([94.9665])>]"
      ]
     },
     "execution_count": 37,
     "metadata": {},
     "output_type": "execute_result"
    }
   ],
   "source": [
    "list(searcher.population[:10])"
   ]
  }
 ],
 "metadata": {
  "kernelspec": {
   "display_name": "evotorch",
   "language": "python",
   "name": "python3"
  },
  "language_info": {
   "codemirror_mode": {
    "name": "ipython",
    "version": 3
   },
   "file_extension": ".py",
   "mimetype": "text/x-python",
   "name": "python",
   "nbconvert_exporter": "python",
   "pygments_lexer": "ipython3",
   "version": "3.9.16"
  },
  "orig_nbformat": 4
 },
 "nbformat": 4,
 "nbformat_minor": 2
}
