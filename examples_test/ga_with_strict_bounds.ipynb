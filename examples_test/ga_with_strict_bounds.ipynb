{
 "cells": [
  {
   "cell_type": "code",
   "execution_count": 1,
   "id": "2c0c8742-5835-4dd1-b471-e529568b41c3",
   "metadata": {},
   "outputs": [],
   "source": [
    "from evotorch import Problem\n",
    "from evotorch.algorithms import GeneticAlgorithm\n",
    "from evotorch.decorators import vectorized\n",
    "from evotorch.operators import SimulatedBinaryCrossOver, PolynomialMutation\n",
    "\n",
    "import torch"
   ]
  },
  {
   "cell_type": "code",
   "execution_count": 2,
   "id": "509afdb8-ef3e-45ba-84ed-d9bcbedee184",
   "metadata": {},
   "outputs": [],
   "source": [
    "@vectorized\n",
    "def fitness(x: torch.Tensor) -> torch.Tensor:\n",
    "    return torch.linalg.norm(x, dim=-1)"
   ]
  },
  {
   "cell_type": "code",
   "execution_count": 3,
   "id": "9d5d7a53-b5cf-4110-9e25-bc2601551b49",
   "metadata": {},
   "outputs": [
    {
     "name": "stdout",
     "output_type": "stream",
     "text": [
      "[2023-03-04 03:36:02] INFO     < 3726> evotorch.core: Instance of `Problem` (id:139700997821632) -- The `dtype` for the problem's decision variables is set as torch.float32\n",
      "[2023-03-04 03:36:02] INFO     < 3726> evotorch.core: Instance of `Problem` (id:139700997821632) -- `eval_dtype` (the dtype of the fitnesses and evaluation data) is set as torch.float32\n",
      "[2023-03-04 03:36:02] INFO     < 3726> evotorch.core: Instance of `Problem` (id:139700997821632) -- The `device` of the problem is set as cpu\n",
      "[2023-03-04 03:36:02] INFO     < 3726> evotorch.core: Instance of `Problem` (id:139700997821632) -- The number of actors that will be allocated for parallelized evaluation is 0\n"
     ]
    },
    {
     "data": {
      "text/plain": [
       "<evotorch.core.Problem at 0x7f0eac5994c0>"
      ]
     },
     "execution_count": 3,
     "metadata": {},
     "output_type": "execute_result"
    }
   ],
   "source": [
    "problem = Problem(\n",
    "    \"min\",\n",
    "    fitness,\n",
    "    solution_length=5,\n",
    "    bounds=(\n",
    "        [-1, -2, -100, -1000, 10.0],\n",
    "        [1, 2, 100, 1000, 10.5],\n",
    "    ),\n",
    "    dtype=torch.float32,\n",
    ")\n",
    "\n",
    "problem"
   ]
  },
  {
   "cell_type": "code",
   "execution_count": 4,
   "id": "a453c574-7d93-43c4-8f2f-097568266b51",
   "metadata": {},
   "outputs": [
    {
     "data": {
      "text/plain": [
       "<evotorch.algorithms.ga.GeneticAlgorithm at 0x7f0ebbfe6fd0>"
      ]
     },
     "execution_count": 4,
     "metadata": {},
     "output_type": "execute_result"
    }
   ],
   "source": [
    "searcher = GeneticAlgorithm(\n",
    "    problem,\n",
    "    popsize=100,\n",
    "    operators=[\n",
    "        SimulatedBinaryCrossOver(problem, tournament_size=4, eta=8),\n",
    "        PolynomialMutation(problem, eta=15),\n",
    "    ],\n",
    ")\n",
    "searcher"
   ]
  },
  {
   "cell_type": "code",
   "execution_count": 5,
   "id": "3def3834-1934-48fb-a0c1-93136dbddb27",
   "metadata": {},
   "outputs": [],
   "source": [
    "searcher.step()  # Take just one step. Just to see how the population looks like after one generation."
   ]
  },
  {
   "cell_type": "code",
   "execution_count": 6,
   "id": "deadc6fd-7824-4273-a027-8e040d31cec0",
   "metadata": {},
   "outputs": [
    {
     "data": {
      "text/plain": [
       "[<Solution values=tensor([-0.9231,  1.5766,  4.1025, -1.0278, 10.1054]), evals=tensor([11.1060])>,\n",
       " <Solution values=tensor([ -0.7990,   1.6469, -20.3178,  -4.8083,  10.0982]), evals=tensor([23.2650])>,\n",
       " <Solution values=tensor([ 0.6300,  0.6870, 32.0092,  5.2970, 10.2162]), evals=tensor([34.0277])>,\n",
       " <Solution values=tensor([ -0.0780,  -1.1325, -29.0291,  31.7164,  10.2469]), evals=tensor([44.2144])>,\n",
       " <Solution values=tensor([  0.0649,  -0.1202,  43.9001, -13.6270,  10.4205]), evals=tensor([47.1329])>,\n",
       " <Solution values=tensor([ -0.5339,  -1.4667,  32.2238, -38.0779,  10.4970]), evals=tensor([50.9993])>,\n",
       " <Solution values=tensor([  0.7524,  -1.9913,  48.0386, -22.0279,  10.0233]), evals=tensor([53.8325])>,\n",
       " <Solution values=tensor([ -0.0953,  -1.2935, -31.5809, -46.4598,  10.3292]), evals=tensor([57.1336])>,\n",
       " <Solution values=tensor([ -0.8097,   1.5526, -25.2010,  54.7463,  10.0782]), evals=tensor([61.1301])>,\n",
       " <Solution values=tensor([ -0.4676,  -0.8704,  31.3456, -52.0392,  10.1424]), evals=tensor([61.5993])>]"
      ]
     },
     "execution_count": 6,
     "metadata": {},
     "output_type": "execute_result"
    }
   ],
   "source": [
    "list(searcher.population[:10])"
   ]
  }
 ],
 "metadata": {
  "kernelspec": {
   "display_name": "Python 3 (ipykernel)",
   "language": "python",
   "name": "python3"
  },
  "language_info": {
   "codemirror_mode": {
    "name": "ipython",
    "version": 3
   },
   "file_extension": ".py",
   "mimetype": "text/x-python",
   "name": "python",
   "nbconvert_exporter": "python",
   "pygments_lexer": "ipython3",
   "version": "3.9.16"
  }
 },
 "nbformat": 4,
 "nbformat_minor": 5
}
