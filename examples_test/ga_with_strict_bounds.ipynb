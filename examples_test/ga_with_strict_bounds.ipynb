{
 "cells": [
  {
   "cell_type": "code",
   "execution_count": null,
   "id": "2c0c8742-5835-4dd1-b471-e529568b41c3",
   "metadata": {},
   "outputs": [],
   "source": [
    "from evotorch import Problem\n",
    "from evotorch.algorithms import GeneticAlgorithm\n",
    "from evotorch.decorators import vectorized\n",
    "from evotorch.operators import SimulatedBinaryCrossOver, PolynomialMutation\n",
    "\n",
    "import torch"
   ]
  },
  {
   "cell_type": "code",
   "execution_count": null,
   "id": "509afdb8-ef3e-45ba-84ed-d9bcbedee184",
   "metadata": {},
   "outputs": [],
   "source": [
    "@vectorized\n",
    "def fitness(x: torch.Tensor) -> torch.Tensor:\n",
    "    return torch.linalg.norm(x, dim=-1)"
   ]
  },
  {
   "cell_type": "code",
   "execution_count": null,
   "id": "9d5d7a53-b5cf-4110-9e25-bc2601551b49",
   "metadata": {},
   "outputs": [],
   "source": [
    "problem = Problem(\n",
    "    \"min\",\n",
    "    fitness,\n",
    "    solution_length=5,\n",
    "    bounds=(\n",
    "        [-1, -2, -100, -1000, 10.0],\n",
    "        [1, 2, 100, 1000, 10.5],\n",
    "    ),\n",
    "    dtype=torch.float32,\n",
    ")\n",
    "\n",
    "problem"
   ]
  },
  {
   "cell_type": "code",
   "execution_count": null,
   "id": "a453c574-7d93-43c4-8f2f-097568266b51",
   "metadata": {},
   "outputs": [],
   "source": [
    "searcher = GeneticAlgorithm(\n",
    "    problem,\n",
    "    popsize=100,\n",
    "    operators=[\n",
    "        SimulatedBinaryCrossOver(problem, tournament_size=4, eta=8),\n",
    "        PolynomialMutation(problem, eta=15),\n",
    "    ],\n",
    ")\n",
    "searcher"
   ]
  },
  {
   "cell_type": "code",
   "execution_count": null,
   "id": "3def3834-1934-48fb-a0c1-93136dbddb27",
   "metadata": {},
   "outputs": [],
   "source": [
    "searcher.step()  # Take just one step. Just to see how the population looks like after one generation."
   ]
  },
  {
   "cell_type": "code",
   "execution_count": null,
   "id": "deadc6fd-7824-4273-a027-8e040d31cec0",
   "metadata": {},
   "outputs": [],
   "source": [
    "list(searcher.population[:10])"
   ]
  }
 ],
 "metadata": {
  "kernelspec": {
   "display_name": "Python 3 (ipykernel)",
   "language": "python",
   "name": "python3"
  },
  "language_info": {
   "codemirror_mode": {
    "name": "ipython",
    "version": 3
   },
   "file_extension": ".py",
   "mimetype": "text/x-python",
   "name": "python",
   "nbconvert_exporter": "python",
   "pygments_lexer": "ipython3",
   "version": "3.7.16"
  }
 },
 "nbformat": 4,
 "nbformat_minor": 5
}
